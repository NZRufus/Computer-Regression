{
 "cells": [
  {
   "cell_type": "code",
   "execution_count": 220,
   "metadata": {},
   "outputs": [],
   "source": [
    "import pandas as pd\n",
    "import numpy as np\n",
    "%matplotlib inline\n",
    "import matplotlib.pyplot as plt \n",
    "import time\n",
    "import pandas_profiling as pp\n",
    "import seaborn as sns\n",
    "from sklearn.model_selection import train_test_split\n",
    "from sklearn import datasets\n",
    "from sklearn import linear_model\n",
    "from sklearn.metrics import mean_squared_error, r2_score\n",
    "from sklearn.preprocessing import StandardScaler, PolynomialFeatures\n",
    "from sklearn.linear_model import LinearRegression, Lasso, Ridge\n",
    "from sklearn.model_selection import KFold, cross_val_predict\n",
    "from sklearn.metrics import r2_score\n",
    "from sklearn.pipeline import Pipeline\n",
    "from sklearn.linear_model import ElasticNetCV"
   ]
  },
  {
   "cell_type": "markdown",
   "metadata": {},
   "source": [
    "#### MCYT =machine cycle time, MMin = Min main memory, MMax = Max main memory, CACH =Cache memory, CHMin = Min channels, CHMax = Max Channels, PRP =published relative performance, Score = Estimated Relative Performance"
   ]
  },
  {
   "cell_type": "code",
   "execution_count": 221,
   "metadata": {},
   "outputs": [
    {
     "data": {
      "text/html": [
       "<div>\n",
       "<style scoped>\n",
       "    .dataframe tbody tr th:only-of-type {\n",
       "        vertical-align: middle;\n",
       "    }\n",
       "\n",
       "    .dataframe tbody tr th {\n",
       "        vertical-align: top;\n",
       "    }\n",
       "\n",
       "    .dataframe thead th {\n",
       "        text-align: right;\n",
       "    }\n",
       "</style>\n",
       "<table border=\"1\" class=\"dataframe\">\n",
       "  <thead>\n",
       "    <tr style=\"text-align: right;\">\n",
       "      <th></th>\n",
       "      <th>Vendor</th>\n",
       "      <th>Model_Name</th>\n",
       "      <th>MYCT</th>\n",
       "      <th>MMin</th>\n",
       "      <th>MMax</th>\n",
       "      <th>CACH</th>\n",
       "      <th>CHMin</th>\n",
       "      <th>CHMax</th>\n",
       "      <th>PRP</th>\n",
       "      <th>Score</th>\n",
       "    </tr>\n",
       "  </thead>\n",
       "  <tbody>\n",
       "    <tr>\n",
       "      <th>0</th>\n",
       "      <td>adviser</td>\n",
       "      <td>32/60</td>\n",
       "      <td>125</td>\n",
       "      <td>256</td>\n",
       "      <td>6000</td>\n",
       "      <td>256</td>\n",
       "      <td>16</td>\n",
       "      <td>128</td>\n",
       "      <td>198</td>\n",
       "      <td>199</td>\n",
       "    </tr>\n",
       "    <tr>\n",
       "      <th>1</th>\n",
       "      <td>amdahl</td>\n",
       "      <td>470v/7</td>\n",
       "      <td>29</td>\n",
       "      <td>8000</td>\n",
       "      <td>32000</td>\n",
       "      <td>32</td>\n",
       "      <td>8</td>\n",
       "      <td>32</td>\n",
       "      <td>269</td>\n",
       "      <td>253</td>\n",
       "    </tr>\n",
       "    <tr>\n",
       "      <th>2</th>\n",
       "      <td>amdahl</td>\n",
       "      <td>470v/7a</td>\n",
       "      <td>29</td>\n",
       "      <td>8000</td>\n",
       "      <td>32000</td>\n",
       "      <td>32</td>\n",
       "      <td>8</td>\n",
       "      <td>32</td>\n",
       "      <td>220</td>\n",
       "      <td>253</td>\n",
       "    </tr>\n",
       "    <tr>\n",
       "      <th>3</th>\n",
       "      <td>amdahl</td>\n",
       "      <td>470v/7b</td>\n",
       "      <td>29</td>\n",
       "      <td>8000</td>\n",
       "      <td>32000</td>\n",
       "      <td>32</td>\n",
       "      <td>8</td>\n",
       "      <td>32</td>\n",
       "      <td>172</td>\n",
       "      <td>253</td>\n",
       "    </tr>\n",
       "    <tr>\n",
       "      <th>4</th>\n",
       "      <td>amdahl</td>\n",
       "      <td>470v/7c</td>\n",
       "      <td>29</td>\n",
       "      <td>8000</td>\n",
       "      <td>16000</td>\n",
       "      <td>32</td>\n",
       "      <td>8</td>\n",
       "      <td>16</td>\n",
       "      <td>132</td>\n",
       "      <td>132</td>\n",
       "    </tr>\n",
       "  </tbody>\n",
       "</table>\n",
       "</div>"
      ],
      "text/plain": [
       "    Vendor Model_Name  MYCT  MMin   MMax  CACH  CHMin  CHMax  PRP  Score\n",
       "0  adviser      32/60   125   256   6000   256     16    128  198    199\n",
       "1   amdahl     470v/7    29  8000  32000    32      8     32  269    253\n",
       "2   amdahl    470v/7a    29  8000  32000    32      8     32  220    253\n",
       "3   amdahl    470v/7b    29  8000  32000    32      8     32  172    253\n",
       "4   amdahl    470v/7c    29  8000  16000    32      8     16  132    132"
      ]
     },
     "execution_count": 221,
     "metadata": {},
     "output_type": "execute_result"
    }
   ],
   "source": [
    "names = ['Vendor','Model_Name','MYCT', 'MMin', 'MMax', 'CACH', 'CHMin', 'CHMax', 'PRP', 'Score' ];\n",
    "df = pd.read_csv('C:/Users/damps/Documents/machine.data',names=names)\n",
    "df.head()"
   ]
  },
  {
   "cell_type": "markdown",
   "metadata": {},
   "source": [
    "#### Sorting out the structure of the data in terms of categorical cf numerical"
   ]
  },
  {
   "cell_type": "code",
   "execution_count": 222,
   "metadata": {},
   "outputs": [
    {
     "name": "stdout",
     "output_type": "stream",
     "text": [
      "<class 'pandas.core.frame.DataFrame'>\n",
      "RangeIndex: 209 entries, 0 to 208\n",
      "Data columns (total 10 columns):\n",
      " #   Column      Non-Null Count  Dtype \n",
      "---  ------      --------------  ----- \n",
      " 0   Vendor      209 non-null    object\n",
      " 1   Model_Name  209 non-null    object\n",
      " 2   MYCT        209 non-null    int64 \n",
      " 3   MMin        209 non-null    int64 \n",
      " 4   MMax        209 non-null    int64 \n",
      " 5   CACH        209 non-null    int64 \n",
      " 6   CHMin       209 non-null    int64 \n",
      " 7   CHMax       209 non-null    int64 \n",
      " 8   PRP         209 non-null    int64 \n",
      " 9   Score       209 non-null    int64 \n",
      "dtypes: int64(8), object(2)\n",
      "memory usage: 16.5+ KB\n"
     ]
    }
   ],
   "source": [
    "df.info()"
   ]
  },
  {
   "cell_type": "code",
   "execution_count": 223,
   "metadata": {},
   "outputs": [],
   "source": [
    "categorical = df.iloc[:,:2]\n",
    "numerical = df.iloc[:,2:]"
   ]
  },
  {
   "cell_type": "markdown",
   "metadata": {},
   "source": [
    "### Score is the Target Variable. All the others are predictors"
   ]
  },
  {
   "cell_type": "code",
   "execution_count": 224,
   "metadata": {},
   "outputs": [],
   "source": [
    "X = numerical.iloc[:,:-1]\n",
    "y = numerical.iloc[:,-1]"
   ]
  },
  {
   "cell_type": "code",
   "execution_count": 225,
   "metadata": {},
   "outputs": [
    {
     "name": "stdout",
     "output_type": "stream",
     "text": [
      "<class 'pandas.core.frame.DataFrame'>\n",
      "RangeIndex: 209 entries, 0 to 208\n",
      "Data columns (total 7 columns):\n",
      " #   Column  Non-Null Count  Dtype\n",
      "---  ------  --------------  -----\n",
      " 0   MYCT    209 non-null    int64\n",
      " 1   MMin    209 non-null    int64\n",
      " 2   MMax    209 non-null    int64\n",
      " 3   CACH    209 non-null    int64\n",
      " 4   CHMin   209 non-null    int64\n",
      " 5   CHMax   209 non-null    int64\n",
      " 6   PRP     209 non-null    int64\n",
      "dtypes: int64(7)\n",
      "memory usage: 11.6 KB\n"
     ]
    }
   ],
   "source": [
    "X.info()"
   ]
  },
  {
   "cell_type": "code",
   "execution_count": 226,
   "metadata": {},
   "outputs": [
    {
     "data": {
      "text/plain": [
       "0    199\n",
       "1    253\n",
       "2    253\n",
       "3    253\n",
       "4    132\n",
       "Name: Score, dtype: int64"
      ]
     },
     "execution_count": 226,
     "metadata": {},
     "output_type": "execute_result"
    }
   ],
   "source": [
    "y.head()"
   ]
  },
  {
   "cell_type": "code",
   "execution_count": 227,
   "metadata": {},
   "outputs": [
    {
     "data": {
      "text/plain": [
       "<matplotlib.axes._subplots.AxesSubplot at 0x1ac0db3f188>"
      ]
     },
     "execution_count": 227,
     "metadata": {},
     "output_type": "execute_result"
    },
    {
     "data": {
      "image/png": "[encoded data removed]",
      "text/plain": [
       "<Figure size 432x288 with 2 Axes>"
      ]
     },
     "metadata": {
      "needs_background": "light"
     },
     "output_type": "display_data"
    }
   ],
   "source": [
    "sns.heatmap(df.corr(), square=True, cmap='RdYlGn')"
   ]
  },
  {
   "cell_type": "code",
   "execution_count": 228,
   "metadata": {},
   "outputs": [],
   "source": [
    "X_train, X_test, y_train, y_test = train_test_split(X,y,test_size=0.25,\n",
    "random_state=42,\n",
    "shuffle=True)"
   ]
  },
  {
   "cell_type": "markdown",
   "metadata": {},
   "source": [
    "### Scale and transform data before"
   ]
  },
  {
   "cell_type": "code",
   "execution_count": 229,
   "metadata": {},
   "outputs": [],
   "source": [
    "scaler = StandardScaler()\n",
    "scaler.fit(X_train)\n",
    "\n",
    "# Apply transform to both the training set and the test set.\n",
    "X_train = scaler.transform(X_train)\n",
    "X_test = scaler.transform(X_test)\n",
    "\n",
    "y_train = y_train.values.reshape(-1, 1)\n",
    "y_test  = y_test.values.reshape(-1, 1)\n",
    "y_scaler = StandardScaler()\n",
    "# Fit on training set only.\n",
    "y_scaler.fit(y_train)\n",
    "# Apply transform to both the training set and the test set.\n",
    "y_train = y_scaler.transform(y_train)\n",
    "y_test = y_scaler.transform(y_test)"
   ]
  },
  {
   "cell_type": "code",
   "execution_count": 230,
   "metadata": {},
   "outputs": [
    {
     "data": {
      "text/plain": [
       "LinearRegression(copy_X=True, fit_intercept=True, n_jobs=None, normalize=False)"
      ]
     },
     "execution_count": 230,
     "metadata": {},
     "output_type": "execute_result"
    }
   ],
   "source": [
    "model = linear_model.LinearRegression()\n",
    "model.fit(X_train,y_train)"
   ]
  },
  {
   "cell_type": "code",
   "execution_count": 231,
   "metadata": {},
   "outputs": [
    {
     "name": "stdout",
     "output_type": "stream",
     "text": [
      "coefficient of determination R^2 of the prediction.: 0.9557654987056478\n",
      "Mean squared error: 0.670\n",
      "Test Variance score: 0.895\n"
     ]
    }
   ],
   "source": [
    "model_score = model.score(X_train,y_train)\n",
    "print('coefficient of determination R^2 of the prediction.:',model_score)\n",
    "y_predicted = model.predict(X_test)\n",
    "print(\"Mean squared error: %.3f\"% mean_squared_error(y_test, y_predicted))\n",
    "print('Test Variance score: %.3f' % r2_score(y_test, y_predicted))"
   ]
  },
  {
   "cell_type": "code",
   "execution_count": 232,
   "metadata": {},
   "outputs": [
    {
     "data": {
      "image/png": "[encoded data removed]",
      "text/plain": [
       "<Figure size 432x288 with 1 Axes>"
      ]
     },
     "metadata": {
      "needs_background": "light"
     },
     "output_type": "display_data"
    }
   ],
   "source": [
    "##Plotting the predicted compared to actual \n",
    "from sklearn.model_selection import cross_val_predict\n",
    "fig, ax = plt.subplots()\n",
    "ax.scatter(y_test, y_predicted, edgecolors=(0, 0, 0))\n",
    "ax.set_xlabel('Actual')\n",
    "ax.set_ylabel('Predicted')\n",
    "ax.set_title(\"Actual vs Predicted\")\n",
    "plt.show()"
   ]
  },
  {
   "cell_type": "code",
   "execution_count": 233,
   "metadata": {},
   "outputs": [],
   "source": [
    "s = StandardScaler()\n",
    "lr = LinearRegression()\n",
    "estimator = Pipeline([(\"scaler\", s),\n",
    "                      (\"regression\", lr)])\n",
    "kf = KFold(shuffle=True, random_state=42, n_splits=4)\n",
    "pf = PolynomialFeatures(degree=2)"
   ]
  },
  {
   "cell_type": "code",
   "execution_count": 234,
   "metadata": {},
   "outputs": [
    {
     "data": {
      "text/plain": [
       "0.903719380447445"
      ]
     },
     "execution_count": 234,
     "metadata": {},
     "output_type": "execute_result"
    }
   ],
   "source": [
    "predictions = cross_val_predict(estimator, X, y, cv=kf)\n",
    "r2_score(y, predictions)"
   ]
  },
  {
   "cell_type": "code",
   "execution_count": 235,
   "metadata": {},
   "outputs": [],
   "source": [
    "s = StandardScaler()\n",
    "lr = LinearRegression()\n",
    "estimator = Pipeline([(\"scaler\", s),\n",
    "                      (\"regression\", lr)])\n",
    "kf = KFold(shuffle=True, random_state=42, n_splits=4)"
   ]
  },
  {
   "cell_type": "code",
   "execution_count": 236,
   "metadata": {},
   "outputs": [
    {
     "data": {
      "text/plain": [
       "0.903719380447445"
      ]
     },
     "execution_count": 236,
     "metadata": {},
     "output_type": "execute_result"
    }
   ],
   "source": [
    "predictions = cross_val_predict(estimator, X, y, cv=kf)\n",
    "r2_score(y, predictions)"
   ]
  },
  {
   "cell_type": "code",
   "execution_count": null,
   "metadata": {},
   "outputs": [],
   "source": []
  },
  {
   "cell_type": "code",
   "execution_count": 270,
   "metadata": {},
   "outputs": [
    {
     "data": {
      "image/png": "[encoded data removed]",
      "text/plain": [
       "<Figure size 432x288 with 1 Axes>"
      ]
     },
     "metadata": {
      "needs_background": "light"
     },
     "output_type": "display_data"
    }
   ],
   "source": [
    "def display_plot(cv_scores, cv_scores_std):\n",
    "    fig = plt.figure()\n",
    "    ax = fig.add_subplot(1,1,1)\n",
    "    ax.plot(alpha_space, cv_scores)\n",
    "\n",
    "    std_error = cv_scores_std / np.sqrt(10)\n",
    "\n",
    "    ax.fill_between(alpha_space, cv_scores + std_error, cv_scores - std_error, alpha=0.2)\n",
    "    ax.set_ylabel('CV Score +/- Std Error')\n",
    "    ax.set_xlabel('Alpha')\n",
    "    ax.axhline(np.max(cv_scores), linestyle='--', color='.5')\n",
    "    ax.set_xlim([alpha_space[0], alpha_space[-1]])\n",
    "    ax.set_xscale('log')\n",
    "    plt.show()\n",
    "    \n",
    "# Import necessary modules\n",
    "from sklearn.linear_model import Ridge\n",
    "from sklearn.model_selection import cross_val_score\n",
    "\n",
    "# Setup the array of alphas and lists to store scores\n",
    "alpha_space = np.logspace(-4, 0, 50)\n",
    "ridge_scores = []\n",
    "ridge_scores_std = []\n",
    "\n",
    "# Create a ridge regressor: ridge\n",
    "ridge = Ridge(normalize=True)\n",
    "\n",
    "# Compute scores over range of alphas\n",
    "for alpha in alpha_space:\n",
    "\n",
    "    # Specify the alpha value to use: ridge.alpha\n",
    "    ridge.alpha = alpha\n",
    "    \n",
    "    # Perform 10-fold CV: ridge_cv_scores\n",
    "    ridge_cv_scores = cross_val_score(ridge, X_train, y_train, cv=4)\n",
    "    \n",
    "    # Append the mean of ridge_cv_scores to ridge_scores\n",
    "    ridge_scores.append(np.mean(ridge_cv_scores))\n",
    "    \n",
    "    # Append the std of ridge_cv_scores to ridge_scores_std\n",
    "    ridge_scores_std.append(np.std(ridge_cv_scores))\n",
    "\n",
    "# Display the plot\n",
    "display_plot(ridge_scores, ridge_scores_std)"
   ]
  },
  {
   "cell_type": "code",
   "execution_count": 297,
   "metadata": {},
   "outputs": [
    {
     "data": {
      "text/plain": [
       "0.9995859048654581"
      ]
     },
     "execution_count": 297,
     "metadata": {},
     "output_type": "execute_result"
    }
   ],
   "source": [
    "best_estimator1 = Pipeline([\n",
    "                    (\"scaler\", s),\n",
    "                    (\"make_higher_degree\", PolynomialFeatures(degree=2)),\n",
    "                    (\"Linear_regression\", lr)])\n",
    "\n",
    "best_estimator1.fit(X, y)\n",
    "best_estimator1.score(X, y)"
   ]
  },
  {
   "cell_type": "code",
   "execution_count": 298,
   "metadata": {},
   "outputs": [
    {
     "data": {
      "text/plain": [
       "array([-1.90516358e+13, -8.06343925e+00,  1.78104756e+01,  4.91405847e+01,\n",
       "        1.61462489e+01,  5.04693041e+00,  4.08062154e+00, -1.44488843e+00,\n",
       "        4.20176606e-01, -1.05648795e+00,  1.30382778e+00, -4.23757278e+00,\n",
       "        3.91231573e+00, -1.98359533e+00, -8.95195548e+00,  2.74535689e+00,\n",
       "        8.30162917e+00, -2.78811080e+00, -5.08754116e-01,  8.37543926e+00,\n",
       "        4.79083106e-01,  9.07196006e+00,  7.80012565e+00,  4.26160844e+00,\n",
       "       -1.91982889e+00, -5.83835499e-01,  2.91805584e+00,  3.17146849e+00,\n",
       "       -2.99158493e+00,  1.61881976e+00,  1.63374646e+00, -5.95690376e+00,\n",
       "       -2.61579717e+00,  1.37111273e+00,  1.08122791e+01, -5.08005084e+00])"
      ]
     },
     "execution_count": 298,
     "metadata": {},
     "output_type": "execute_result"
    }
   ],
   "source": [
    "best_estimator1.named_steps[\"Linear_regression\"].coef_"
   ]
  },
  {
   "cell_type": "code",
   "execution_count": 301,
   "metadata": {},
   "outputs": [],
   "source": [
    "df_importances = pd.DataFrame(zip(best_estimator1.named_steps[\"make_higher_degree\"].get_feature_names(),\n",
    "                 best_estimator1.named_steps[\"Linear_regression\"].coef_,))"
   ]
  },
  {
   "cell_type": "code",
   "execution_count": 302,
   "metadata": {},
   "outputs": [],
   "source": [
    "col_names_dict = dict(zip(list(range(len(X.columns.values))), X.columns.values))"
   ]
  },
  {
   "cell_type": "code",
   "execution_count": 303,
   "metadata": {},
   "outputs": [
    {
     "data": {
      "text/plain": [
       "{0: 'MYCT', 1: 'MMin', 2: 'MMax', 3: 'CACH', 4: 'CHMin', 5: 'CHMax', 6: 'PRP'}"
      ]
     },
     "execution_count": 303,
     "metadata": {},
     "output_type": "execute_result"
    }
   ],
   "source": [
    "col_names_dict"
   ]
  },
  {
   "cell_type": "code",
   "execution_count": 304,
   "metadata": {},
   "outputs": [
    {
     "data": {
      "text/html": [
       "<div>\n",
       "<style scoped>\n",
       "    .dataframe tbody tr th:only-of-type {\n",
       "        vertical-align: middle;\n",
       "    }\n",
       "\n",
       "    .dataframe tbody tr th {\n",
       "        vertical-align: top;\n",
       "    }\n",
       "\n",
       "    .dataframe thead th {\n",
       "        text-align: right;\n",
       "    }\n",
       "</style>\n",
       "<table border=\"1\" class=\"dataframe\">\n",
       "  <thead>\n",
       "    <tr style=\"text-align: right;\">\n",
       "      <th></th>\n",
       "      <th>3</th>\n",
       "      <th>2</th>\n",
       "      <th>4</th>\n",
       "      <th>34</th>\n",
       "      <th>21</th>\n",
       "      <th>19</th>\n",
       "      <th>16</th>\n",
       "      <th>22</th>\n",
       "      <th>5</th>\n",
       "      <th>23</th>\n",
       "      <th>...</th>\n",
       "      <th>13</th>\n",
       "      <th>32</th>\n",
       "      <th>17</th>\n",
       "      <th>28</th>\n",
       "      <th>11</th>\n",
       "      <th>35</th>\n",
       "      <th>31</th>\n",
       "      <th>1</th>\n",
       "      <th>14</th>\n",
       "      <th>0</th>\n",
       "    </tr>\n",
       "  </thead>\n",
       "  <tbody>\n",
       "    <tr>\n",
       "      <th>0</th>\n",
       "      <td>x2</td>\n",
       "      <td>x1</td>\n",
       "      <td>x3</td>\n",
       "      <td>x5 x6</td>\n",
       "      <td>x2^2</td>\n",
       "      <td>x1 x5</td>\n",
       "      <td>x1 x2</td>\n",
       "      <td>x2 x3</td>\n",
       "      <td>x4</td>\n",
       "      <td>x2 x4</td>\n",
       "      <td>...</td>\n",
       "      <td>x0 x5</td>\n",
       "      <td>x4 x6</td>\n",
       "      <td>x1 x3</td>\n",
       "      <td>x3 x5</td>\n",
       "      <td>x0 x3</td>\n",
       "      <td>x6^2</td>\n",
       "      <td>x4 x5</td>\n",
       "      <td>x0</td>\n",
       "      <td>x0 x6</td>\n",
       "      <td>1</td>\n",
       "    </tr>\n",
       "    <tr>\n",
       "      <th>1</th>\n",
       "      <td>49.140585</td>\n",
       "      <td>17.810476</td>\n",
       "      <td>16.146249</td>\n",
       "      <td>10.812279</td>\n",
       "      <td>9.07196</td>\n",
       "      <td>8.375439</td>\n",
       "      <td>8.301629</td>\n",
       "      <td>7.800126</td>\n",
       "      <td>5.04693</td>\n",
       "      <td>4.261608</td>\n",
       "      <td>...</td>\n",
       "      <td>-1.983595</td>\n",
       "      <td>-2.615797</td>\n",
       "      <td>-2.788111</td>\n",
       "      <td>-2.991585</td>\n",
       "      <td>-4.237573</td>\n",
       "      <td>-5.080051</td>\n",
       "      <td>-5.956904</td>\n",
       "      <td>-8.063439</td>\n",
       "      <td>-8.951955</td>\n",
       "      <td>-19051635769390.472656</td>\n",
       "    </tr>\n",
       "  </tbody>\n",
       "</table>\n",
       "<p>2 rows × 36 columns</p>\n",
       "</div>"
      ],
      "text/plain": [
       "          3          2          4          34       21        19        16  \\\n",
       "0         x2         x1         x3      x5 x6     x2^2     x1 x5     x1 x2   \n",
       "1  49.140585  17.810476  16.146249  10.812279  9.07196  8.375439  8.301629   \n",
       "\n",
       "         22       5         23  ...        13        32        17        28  \\\n",
       "0     x2 x3       x4     x2 x4  ...     x0 x5     x4 x6     x1 x3     x3 x5   \n",
       "1  7.800126  5.04693  4.261608  ... -1.983595 -2.615797 -2.788111 -2.991585   \n",
       "\n",
       "         11        35        31        1         14                     0   \n",
       "0     x0 x3      x6^2     x4 x5        x0     x0 x6                      1  \n",
       "1 -4.237573 -5.080051 -5.956904 -8.063439 -8.951955 -19051635769390.472656  \n",
       "\n",
       "[2 rows x 36 columns]"
      ]
     },
     "execution_count": 304,
     "metadata": {},
     "output_type": "execute_result"
    }
   ],
   "source": [
    "df_importances.sort_values(by=1, ascending=False).transpose()"
   ]
  },
  {
   "cell_type": "code",
   "execution_count": 305,
   "metadata": {},
   "outputs": [
    {
     "data": {
      "text/html": [
       "<div>\n",
       "<style scoped>\n",
       "    .dataframe tbody tr th:only-of-type {\n",
       "        vertical-align: middle;\n",
       "    }\n",
       "\n",
       "    .dataframe tbody tr th {\n",
       "        vertical-align: top;\n",
       "    }\n",
       "\n",
       "    .dataframe thead th {\n",
       "        text-align: right;\n",
       "    }\n",
       "</style>\n",
       "<table border=\"1\" class=\"dataframe\">\n",
       "  <thead>\n",
       "    <tr style=\"text-align: right;\">\n",
       "      <th></th>\n",
       "      <th>0</th>\n",
       "      <th>14</th>\n",
       "      <th>1</th>\n",
       "      <th>31</th>\n",
       "      <th>35</th>\n",
       "      <th>11</th>\n",
       "      <th>28</th>\n",
       "      <th>17</th>\n",
       "      <th>32</th>\n",
       "      <th>13</th>\n",
       "      <th>...</th>\n",
       "      <th>23</th>\n",
       "      <th>5</th>\n",
       "      <th>22</th>\n",
       "      <th>16</th>\n",
       "      <th>19</th>\n",
       "      <th>21</th>\n",
       "      <th>34</th>\n",
       "      <th>4</th>\n",
       "      <th>2</th>\n",
       "      <th>3</th>\n",
       "    </tr>\n",
       "  </thead>\n",
       "  <tbody>\n",
       "    <tr>\n",
       "      <th>0</th>\n",
       "      <td>1</td>\n",
       "      <td>x0 x6</td>\n",
       "      <td>x0</td>\n",
       "      <td>x4 x5</td>\n",
       "      <td>x6^2</td>\n",
       "      <td>x0 x3</td>\n",
       "      <td>x3 x5</td>\n",
       "      <td>x1 x3</td>\n",
       "      <td>x4 x6</td>\n",
       "      <td>x0 x5</td>\n",
       "      <td>...</td>\n",
       "      <td>x2 x4</td>\n",
       "      <td>x4</td>\n",
       "      <td>x2 x3</td>\n",
       "      <td>x1 x2</td>\n",
       "      <td>x1 x5</td>\n",
       "      <td>x2^2</td>\n",
       "      <td>x5 x6</td>\n",
       "      <td>x3</td>\n",
       "      <td>x1</td>\n",
       "      <td>x2</td>\n",
       "    </tr>\n",
       "    <tr>\n",
       "      <th>1</th>\n",
       "      <td>-19051635769390.472656</td>\n",
       "      <td>-8.951955</td>\n",
       "      <td>-8.063439</td>\n",
       "      <td>-5.956904</td>\n",
       "      <td>-5.080051</td>\n",
       "      <td>-4.237573</td>\n",
       "      <td>-2.991585</td>\n",
       "      <td>-2.788111</td>\n",
       "      <td>-2.615797</td>\n",
       "      <td>-1.983595</td>\n",
       "      <td>...</td>\n",
       "      <td>4.261608</td>\n",
       "      <td>5.04693</td>\n",
       "      <td>7.800126</td>\n",
       "      <td>8.301629</td>\n",
       "      <td>8.375439</td>\n",
       "      <td>9.07196</td>\n",
       "      <td>10.812279</td>\n",
       "      <td>16.146249</td>\n",
       "      <td>17.810476</td>\n",
       "      <td>49.140585</td>\n",
       "    </tr>\n",
       "  </tbody>\n",
       "</table>\n",
       "<p>2 rows × 36 columns</p>\n",
       "</div>"
      ],
      "text/plain": [
       "                      0         14        1         31        35        11  \\\n",
       "0                      1     x0 x6        x0     x4 x5      x6^2     x0 x3   \n",
       "1 -19051635769390.472656 -8.951955 -8.063439 -5.956904 -5.080051 -4.237573   \n",
       "\n",
       "         28        17        32        13  ...        23       5         22  \\\n",
       "0     x3 x5     x1 x3     x4 x6     x0 x5  ...     x2 x4       x4     x2 x3   \n",
       "1 -2.991585 -2.788111 -2.615797 -1.983595  ...  4.261608  5.04693  7.800126   \n",
       "\n",
       "         16        19       21         34         4          2          3   \n",
       "0     x1 x2     x1 x5     x2^2      x5 x6         x3         x1         x2  \n",
       "1  8.301629  8.375439  9.07196  10.812279  16.146249  17.810476  49.140585  \n",
       "\n",
       "[2 rows x 36 columns]"
      ]
     },
     "execution_count": 305,
     "metadata": {},
     "output_type": "execute_result"
    }
   ],
   "source": [
    "df_importances.sort_values(by=1).transpose()"
   ]
  },
  {
   "cell_type": "code",
   "execution_count": 240,
   "metadata": {},
   "outputs": [
    {
     "data": {
      "text/plain": [
       "array([ 0.        , -8.86343904, 15.89264581, 45.56575202, 16.50541212,\n",
       "        3.90971009,  3.49930153,  5.15086106, -0.1391025 , -4.34568043,\n",
       "       -3.13333215, -4.00621377, -0.90600239, -1.31563575, -0.37301423,\n",
       "        1.59821399,  6.21184699, -0.51148162,  1.83516997,  4.67456567,\n",
       "        0.22540867,  8.79127615,  5.57982173,  2.65876155,  1.51129944,\n",
       "        1.46436365,  3.01670653,  3.13126064, -3.05436912, -0.64488105,\n",
       "        0.08888099, -1.71760789, -2.68017916,  0.76172957,  6.42562386,\n",
       "       -1.98451682])"
      ]
     },
     "execution_count": 240,
     "metadata": {},
     "output_type": "execute_result"
    }
   ],
   "source": [
    "best_estimator.named_steps[\"Ridge_regression\"].coef_"
   ]
  },
  {
   "cell_type": "code",
   "execution_count": 238,
   "metadata": {},
   "outputs": [
    {
     "data": {
      "image/png": "[encoded data removed]",
      "text/plain": [
       "<Figure size 432x288 with 1 Axes>"
      ]
     },
     "metadata": {
      "needs_background": "light"
     },
     "output_type": "display_data"
    }
   ],
   "source": [
    "s = StandardScaler()\n",
    "kf = KFold(shuffle=True, random_state=42, n_splits=4)\n",
    "pf = PolynomialFeatures(degree=2)\n",
    "alphas = np.geomspace(0.5, 20, 10)\n",
    "scores=[]\n",
    "for alpha in alphas:\n",
    "    ridge = Ridge(alpha=alpha, max_iter=100000)\n",
    "    estimator = Pipeline([\n",
    "        (\"scaler\", s),\n",
    "        (\"polynomial_features\", pf),\n",
    "        (\"ridge_regression\", ridge)])\n",
    "    predictions = cross_val_predict(estimator, X, y, cv = kf)\n",
    "    score = r2_score(y, predictions)\n",
    "    scores.append(score)\n",
    "\n",
    "plt.plot(alphas, scores);"
   ]
  },
  {
   "cell_type": "code",
   "execution_count": 239,
   "metadata": {},
   "outputs": [
    {
     "data": {
      "text/plain": [
       "0.9995751043662426"
      ]
     },
     "execution_count": 239,
     "metadata": {},
     "output_type": "execute_result"
    }
   ],
   "source": [
    "best_estimator = Pipeline([\n",
    "                    (\"scaler\", s),\n",
    "                    (\"make_higher_degree\", PolynomialFeatures(degree=2)),\n",
    "                    (\"Ridge_regression\", Ridge(alpha=2))])\n",
    "\n",
    "best_estimator.fit(X, y)\n",
    "best_estimator.score(X, y)"
   ]
  },
  {
   "cell_type": "code",
   "execution_count": 240,
   "metadata": {},
   "outputs": [
    {
     "data": {
      "text/plain": [
       "array([ 0.        , -8.86343904, 15.89264581, 45.56575202, 16.50541212,\n",
       "        3.90971009,  3.49930153,  5.15086106, -0.1391025 , -4.34568043,\n",
       "       -3.13333215, -4.00621377, -0.90600239, -1.31563575, -0.37301423,\n",
       "        1.59821399,  6.21184699, -0.51148162,  1.83516997,  4.67456567,\n",
       "        0.22540867,  8.79127615,  5.57982173,  2.65876155,  1.51129944,\n",
       "        1.46436365,  3.01670653,  3.13126064, -3.05436912, -0.64488105,\n",
       "        0.08888099, -1.71760789, -2.68017916,  0.76172957,  6.42562386,\n",
       "       -1.98451682])"
      ]
     },
     "execution_count": 240,
     "metadata": {},
     "output_type": "execute_result"
    }
   ],
   "source": [
    "best_estimator.named_steps[\"Ridge_regression\"].coef_"
   ]
  },
  {
   "cell_type": "code",
   "execution_count": 241,
   "metadata": {},
   "outputs": [],
   "source": [
    "df_importances = pd.DataFrame(zip(best_estimator.named_steps[\"make_higher_degree\"].get_feature_names(),\n",
    "                 best_estimator.named_steps[\"Ridge_regression\"].coef_,))"
   ]
  },
  {
   "cell_type": "code",
   "execution_count": 242,
   "metadata": {},
   "outputs": [],
   "source": [
    "col_names_dict = dict(zip(list(range(len(X.columns.values))), X.columns.values))"
   ]
  },
  {
   "cell_type": "code",
   "execution_count": 243,
   "metadata": {},
   "outputs": [
    {
     "data": {
      "text/plain": [
       "{0: 'MYCT', 1: 'MMin', 2: 'MMax', 3: 'CACH', 4: 'CHMin', 5: 'CHMax', 6: 'PRP'}"
      ]
     },
     "execution_count": 243,
     "metadata": {},
     "output_type": "execute_result"
    }
   ],
   "source": [
    "col_names_dict"
   ]
  },
  {
   "cell_type": "code",
   "execution_count": 244,
   "metadata": {},
   "outputs": [
    {
     "data": {
      "text/html": [
       "<div>\n",
       "<style scoped>\n",
       "    .dataframe tbody tr th:only-of-type {\n",
       "        vertical-align: middle;\n",
       "    }\n",
       "\n",
       "    .dataframe tbody tr th {\n",
       "        vertical-align: top;\n",
       "    }\n",
       "\n",
       "    .dataframe thead th {\n",
       "        text-align: right;\n",
       "    }\n",
       "</style>\n",
       "<table border=\"1\" class=\"dataframe\">\n",
       "  <thead>\n",
       "    <tr style=\"text-align: right;\">\n",
       "      <th></th>\n",
       "      <th>3</th>\n",
       "      <th>4</th>\n",
       "      <th>2</th>\n",
       "      <th>21</th>\n",
       "      <th>34</th>\n",
       "      <th>16</th>\n",
       "      <th>22</th>\n",
       "      <th>7</th>\n",
       "      <th>19</th>\n",
       "      <th>5</th>\n",
       "      <th>...</th>\n",
       "      <th>12</th>\n",
       "      <th>13</th>\n",
       "      <th>31</th>\n",
       "      <th>35</th>\n",
       "      <th>32</th>\n",
       "      <th>28</th>\n",
       "      <th>10</th>\n",
       "      <th>11</th>\n",
       "      <th>9</th>\n",
       "      <th>1</th>\n",
       "    </tr>\n",
       "  </thead>\n",
       "  <tbody>\n",
       "    <tr>\n",
       "      <th>0</th>\n",
       "      <td>x2</td>\n",
       "      <td>x3</td>\n",
       "      <td>x1</td>\n",
       "      <td>x2^2</td>\n",
       "      <td>x5 x6</td>\n",
       "      <td>x1 x2</td>\n",
       "      <td>x2 x3</td>\n",
       "      <td>x6</td>\n",
       "      <td>x1 x5</td>\n",
       "      <td>x4</td>\n",
       "      <td>...</td>\n",
       "      <td>x0 x4</td>\n",
       "      <td>x0 x5</td>\n",
       "      <td>x4 x5</td>\n",
       "      <td>x6^2</td>\n",
       "      <td>x4 x6</td>\n",
       "      <td>x3 x5</td>\n",
       "      <td>x0 x2</td>\n",
       "      <td>x0 x3</td>\n",
       "      <td>x0 x1</td>\n",
       "      <td>x0</td>\n",
       "    </tr>\n",
       "    <tr>\n",
       "      <th>1</th>\n",
       "      <td>45.565752</td>\n",
       "      <td>16.505412</td>\n",
       "      <td>15.892646</td>\n",
       "      <td>8.791276</td>\n",
       "      <td>6.425624</td>\n",
       "      <td>6.211847</td>\n",
       "      <td>5.579822</td>\n",
       "      <td>5.150861</td>\n",
       "      <td>4.674566</td>\n",
       "      <td>3.90971</td>\n",
       "      <td>...</td>\n",
       "      <td>-0.906002</td>\n",
       "      <td>-1.315636</td>\n",
       "      <td>-1.717608</td>\n",
       "      <td>-1.984517</td>\n",
       "      <td>-2.680179</td>\n",
       "      <td>-3.054369</td>\n",
       "      <td>-3.133332</td>\n",
       "      <td>-4.006214</td>\n",
       "      <td>-4.34568</td>\n",
       "      <td>-8.863439</td>\n",
       "    </tr>\n",
       "  </tbody>\n",
       "</table>\n",
       "<p>2 rows × 36 columns</p>\n",
       "</div>"
      ],
      "text/plain": [
       "          3          4          2         21        34        16        22  \\\n",
       "0         x2         x3         x1      x2^2     x5 x6     x1 x2     x2 x3   \n",
       "1  45.565752  16.505412  15.892646  8.791276  6.425624  6.211847  5.579822   \n",
       "\n",
       "         7         19       5   ...        12        13        31        35  \\\n",
       "0        x6     x1 x5       x4  ...     x0 x4     x0 x5     x4 x5      x6^2   \n",
       "1  5.150861  4.674566  3.90971  ... -0.906002 -1.315636 -1.717608 -1.984517   \n",
       "\n",
       "         32        28        10        11       9         1   \n",
       "0     x4 x6     x3 x5     x0 x2     x0 x3    x0 x1        x0  \n",
       "1 -2.680179 -3.054369 -3.133332 -4.006214 -4.34568 -8.863439  \n",
       "\n",
       "[2 rows x 36 columns]"
      ]
     },
     "execution_count": 244,
     "metadata": {},
     "output_type": "execute_result"
    }
   ],
   "source": [
    "df_importances.sort_values(by=1, ascending=False).transpose()"
   ]
  },
  {
   "cell_type": "code",
   "execution_count": 245,
   "metadata": {},
   "outputs": [
    {
     "data": {
      "text/html": [
       "<div>\n",
       "<style scoped>\n",
       "    .dataframe tbody tr th:only-of-type {\n",
       "        vertical-align: middle;\n",
       "    }\n",
       "\n",
       "    .dataframe tbody tr th {\n",
       "        vertical-align: top;\n",
       "    }\n",
       "\n",
       "    .dataframe thead th {\n",
       "        text-align: right;\n",
       "    }\n",
       "</style>\n",
       "<table border=\"1\" class=\"dataframe\">\n",
       "  <thead>\n",
       "    <tr style=\"text-align: right;\">\n",
       "      <th></th>\n",
       "      <th>1</th>\n",
       "      <th>9</th>\n",
       "      <th>11</th>\n",
       "      <th>10</th>\n",
       "      <th>28</th>\n",
       "      <th>32</th>\n",
       "      <th>35</th>\n",
       "      <th>31</th>\n",
       "      <th>13</th>\n",
       "      <th>12</th>\n",
       "      <th>...</th>\n",
       "      <th>5</th>\n",
       "      <th>19</th>\n",
       "      <th>7</th>\n",
       "      <th>22</th>\n",
       "      <th>16</th>\n",
       "      <th>34</th>\n",
       "      <th>21</th>\n",
       "      <th>2</th>\n",
       "      <th>4</th>\n",
       "      <th>3</th>\n",
       "    </tr>\n",
       "  </thead>\n",
       "  <tbody>\n",
       "    <tr>\n",
       "      <th>0</th>\n",
       "      <td>x0</td>\n",
       "      <td>x0 x1</td>\n",
       "      <td>x0 x3</td>\n",
       "      <td>x0 x2</td>\n",
       "      <td>x3 x5</td>\n",
       "      <td>x4 x6</td>\n",
       "      <td>x6^2</td>\n",
       "      <td>x4 x5</td>\n",
       "      <td>x0 x5</td>\n",
       "      <td>x0 x4</td>\n",
       "      <td>...</td>\n",
       "      <td>x4</td>\n",
       "      <td>x1 x5</td>\n",
       "      <td>x6</td>\n",
       "      <td>x2 x3</td>\n",
       "      <td>x1 x2</td>\n",
       "      <td>x5 x6</td>\n",
       "      <td>x2^2</td>\n",
       "      <td>x1</td>\n",
       "      <td>x3</td>\n",
       "      <td>x2</td>\n",
       "    </tr>\n",
       "    <tr>\n",
       "      <th>1</th>\n",
       "      <td>-8.863439</td>\n",
       "      <td>-4.34568</td>\n",
       "      <td>-4.006214</td>\n",
       "      <td>-3.133332</td>\n",
       "      <td>-3.054369</td>\n",
       "      <td>-2.680179</td>\n",
       "      <td>-1.984517</td>\n",
       "      <td>-1.717608</td>\n",
       "      <td>-1.315636</td>\n",
       "      <td>-0.906002</td>\n",
       "      <td>...</td>\n",
       "      <td>3.90971</td>\n",
       "      <td>4.674566</td>\n",
       "      <td>5.150861</td>\n",
       "      <td>5.579822</td>\n",
       "      <td>6.211847</td>\n",
       "      <td>6.425624</td>\n",
       "      <td>8.791276</td>\n",
       "      <td>15.892646</td>\n",
       "      <td>16.505412</td>\n",
       "      <td>45.565752</td>\n",
       "    </tr>\n",
       "  </tbody>\n",
       "</table>\n",
       "<p>2 rows × 36 columns</p>\n",
       "</div>"
      ],
      "text/plain": [
       "         1        9         11        10        28        32        35  \\\n",
       "0        x0    x0 x1     x0 x3     x0 x2     x3 x5     x4 x6      x6^2   \n",
       "1 -8.863439 -4.34568 -4.006214 -3.133332 -3.054369 -2.680179 -1.984517   \n",
       "\n",
       "         31        13        12  ...       5         19        7         22  \\\n",
       "0     x4 x5     x0 x5     x0 x4  ...       x4     x1 x5        x6     x2 x3   \n",
       "1 -1.717608 -1.315636 -0.906002  ...  3.90971  4.674566  5.150861  5.579822   \n",
       "\n",
       "         16        34        21         2          4          3   \n",
       "0     x1 x2     x5 x6      x2^2         x1         x3         x2  \n",
       "1  6.211847  6.425624  8.791276  15.892646  16.505412  45.565752  \n",
       "\n",
       "[2 rows x 36 columns]"
      ]
     },
     "execution_count": 245,
     "metadata": {},
     "output_type": "execute_result"
    }
   ],
   "source": [
    "df_importances.sort_values(by=1).transpose()"
   ]
  },
  {
   "cell_type": "code",
   "execution_count": 289,
   "metadata": {},
   "outputs": [
    {
     "name": "stderr",
     "output_type": "stream",
     "text": [
      "C:\\Users\\damps\\Anaconda3\\Anaconda3a\\lib\\site-packages\\sklearn\\model_selection\\_split.py:1978: FutureWarning: The default value of cv will change from 3 to 5 in version 0.22. Specify it explicitly to silence this warning.\n",
      "  warnings.warn(CV_WARNING, FutureWarning)\n"
     ]
    },
    {
     "data": {
      "text/plain": [
       "0.9857377569069483"
      ]
     },
     "execution_count": 289,
     "metadata": {},
     "output_type": "execute_result"
    }
   ],
   "source": [
    "best_estimator = Pipeline([\n",
    "                    (\"scaler\", s),\n",
    "                    (\"make_higher_degree\", PolynomialFeatures(degree=2)),\n",
    "                    (\"elastic_regression\", ElasticNetCV())])\n",
    "\n",
    "best_estimator.fit(X, y)\n",
    "best_estimator.score(X, y)"
   ]
  },
  {
   "cell_type": "code",
   "execution_count": 283,
   "metadata": {},
   "outputs": [],
   "source": [
    "lasso_coef = Lasso(alpha=0.01).fit(X, y).coef_"
   ]
  },
  {
   "cell_type": "code",
   "execution_count": null,
   "metadata": {},
   "outputs": [],
   "source": []
  },
  {
   "cell_type": "code",
   "execution_count": 266,
   "metadata": {},
   "outputs": [
    {
     "name": "stdout",
     "output_type": "stream",
     "text": [
      "0.8183881014618152\n"
     ]
    }
   ],
   "source": [
    "linearRegression = LinearRegression().fit(X_train, y_train)\n",
    "\n",
    "linearRegression_rmse = rmse(y_test, linearRegression.predict(X_test))\n",
    "\n",
    "print(linearRegression_rmse)"
   ]
  },
  {
   "cell_type": "code",
   "execution_count": 267,
   "metadata": {},
   "outputs": [
    {
     "name": "stdout",
     "output_type": "stream",
     "text": [
      "15.0 0.8694287243772064\n"
     ]
    }
   ],
   "source": [
    "from sklearn.linear_model import RidgeCV\n",
    "alphas = [0.005, 0.05, 0.1, 0.3, 1, 2, 5, 10, 15, 30, 80]\n",
    "alpha =[0.01]\n",
    "ridgeCV = RidgeCV(alphas=alphas, \n",
    "                  cv=4).fit(X_train, y_train)\n",
    "\n",
    "ridgeCV_rmse = rmse(y_test, ridgeCV.predict(X_test))\n",
    "\n",
    "print(ridgeCV.alpha_, ridgeCV_rmse)"
   ]
  },
  {
   "cell_type": "code",
   "execution_count": 276,
   "metadata": {},
   "outputs": [
    {
     "name": "stdout",
     "output_type": "stream",
     "text": [
      "5e-06 0.8183933297675369\n"
     ]
    },
    {
     "name": "stderr",
     "output_type": "stream",
     "text": [
      "C:\\Users\\damps\\Anaconda3\\Anaconda3a\\lib\\site-packages\\sklearn\\linear_model\\coordinate_descent.py:1100: DataConversionWarning: A column-vector y was passed when a 1d array was expected. Please change the shape of y to (n_samples, ), for example using ravel().\n",
      "  y = column_or_1d(y, warn=True)\n"
     ]
    }
   ],
   "source": [
    "from sklearn.linear_model import LassoCV\n",
    "\n",
    "alphas2 = np.array([ 5e-06, 1e-5, 5e-5, 0.0001, 0.0005])\n",
    "\n",
    "lassoCV = LassoCV(alphas=alphas2,\n",
    "                  max_iter=5e4,\n",
    "                  cv=4).fit(X_train, y_train)\n",
    "\n",
    "lassoCV_rmse = rmse(y_test, lassoCV.predict(X_test))\n",
    "\n",
    "print(lassoCV.alpha_, lassoCV_rmse)"
   ]
  },
  {
   "cell_type": "code",
   "execution_count": 281,
   "metadata": {},
   "outputs": [
    {
     "name": "stdout",
     "output_type": "stream",
     "text": [
      "0.0005 0.9 0.8190063780772351\n"
     ]
    },
    {
     "name": "stderr",
     "output_type": "stream",
     "text": [
      "C:\\Users\\damps\\Anaconda3\\Anaconda3a\\lib\\site-packages\\sklearn\\linear_model\\coordinate_descent.py:1100: DataConversionWarning: A column-vector y was passed when a 1d array was expected. Please change the shape of y to (n_samples, ), for example using ravel().\n",
      "  y = column_or_1d(y, warn=True)\n",
      "C:\\Users\\damps\\Anaconda3\\Anaconda3a\\lib\\site-packages\\sklearn\\model_selection\\_split.py:1978: FutureWarning: The default value of cv will change from 3 to 5 in version 0.22. Specify it explicitly to silence this warning.\n",
      "  warnings.warn(CV_WARNING, FutureWarning)\n"
     ]
    }
   ],
   "source": [
    "\n",
    "def rmse(ytrue, ypredicted):\n",
    "    return np.sqrt(mean_squared_error(ytrue, ypredicted))\n",
    "steps = [('scaler', StandardScaler()),\n",
    "         ('elasticnet', ElasticNetCV())]\n",
    "\n",
    "l1_ratios = np.linspace(0.001, 0.9, 20)\n",
    "\n",
    "elasticNetCV = ElasticNetCV(alphas=alphas2, \n",
    "                            l1_ratio=l1_ratios,\n",
    "                            max_iter=1e5).fit(X_train, y_train)\n",
    "elasticNetCV_rmse = rmse(y_test, elasticNetCV.predict(X_test))\n",
    "\n",
    "print(elasticNetCV.alpha_, elasticNetCV.l1_ratio_, elasticNetCV_rmse)"
   ]
  },
  {
   "cell_type": "code",
   "execution_count": 282,
   "metadata": {},
   "outputs": [
    {
     "data": {
      "text/html": [
       "<div>\n",
       "<style scoped>\n",
       "    .dataframe tbody tr th:only-of-type {\n",
       "        vertical-align: middle;\n",
       "    }\n",
       "\n",
       "    .dataframe tbody tr th {\n",
       "        vertical-align: top;\n",
       "    }\n",
       "\n",
       "    .dataframe thead th {\n",
       "        text-align: right;\n",
       "    }\n",
       "</style>\n",
       "<table border=\"1\" class=\"dataframe\">\n",
       "  <thead>\n",
       "    <tr style=\"text-align: right;\">\n",
       "      <th></th>\n",
       "      <th>RMSE</th>\n",
       "    </tr>\n",
       "  </thead>\n",
       "  <tbody>\n",
       "    <tr>\n",
       "      <th>Linear</th>\n",
       "      <td>0.818388</td>\n",
       "    </tr>\n",
       "    <tr>\n",
       "      <th>Ridge</th>\n",
       "      <td>0.869429</td>\n",
       "    </tr>\n",
       "    <tr>\n",
       "      <th>Lasso</th>\n",
       "      <td>0.818393</td>\n",
       "    </tr>\n",
       "    <tr>\n",
       "      <th>ElasticNet</th>\n",
       "      <td>0.819006</td>\n",
       "    </tr>\n",
       "  </tbody>\n",
       "</table>\n",
       "</div>"
      ],
      "text/plain": [
       "                RMSE\n",
       "Linear      0.818388\n",
       "Ridge       0.869429\n",
       "Lasso       0.818393\n",
       "ElasticNet  0.819006"
      ]
     },
     "execution_count": 282,
     "metadata": {},
     "output_type": "execute_result"
    }
   ],
   "source": [
    "rmse_vals = [linearRegression_rmse, ridgeCV_rmse, lassoCV_rmse, elasticNetCV_rmse]\n",
    "\n",
    "labels = ['Linear', 'Ridge', 'Lasso', 'ElasticNet']\n",
    "\n",
    "rmse_df = pd.Series(rmse_vals, index=labels).to_frame()\n",
    "rmse_df.rename(columns={0: 'RMSE'}, inplace=1)\n",
    "rmse_df"
   ]
  },
  {
   "cell_type": "code",
   "execution_count": null,
   "metadata": {},
   "outputs": [],
   "source": []
  }
 ],
 "metadata": {
  "kernelspec": {
   "display_name": "Python 3",
   "language": "python",
   "name": "python3"
  },
  "language_info": {
   "codemirror_mode": {
    "name": "ipython",
    "version": 3
   },
   "file_extension": ".py",
   "mimetype": "text/x-python",
   "name": "python",
   "nbconvert_exporter": "python",
   "pygments_lexer": "ipython3",
   "version": "3.7.4"
  }
 },
 "nbformat": 4,
 "nbformat_minor": 2
}
